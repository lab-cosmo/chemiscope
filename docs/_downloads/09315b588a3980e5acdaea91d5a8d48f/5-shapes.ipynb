{
  "cells": [
    {
      "cell_type": "markdown",
      "metadata": {},
      "source": [
        "\n# Shape visualization\n\nThis example demonstrates how to visualize structure and atomic\nproperties in the structure panel, using different types of\npredefined shapes (ellipsoids for tensors, arrows for vectors).\nThe example also shows how to define custom shapes.\n\nNote that the same parameters can be used with `chemiscope.show` to visualize an\ninteractive widget in a Jupyter notebook.\n"
      ]
    },
    {
      "cell_type": "code",
      "execution_count": null,
      "metadata": {
        "collapsed": false
      },
      "outputs": [],
      "source": [
        "import ase.io\nimport numpy as np\nfrom scipy.spatial.transform import Rotation\n\nimport chemiscope"
      ]
    },
    {
      "cell_type": "markdown",
      "metadata": {},
      "source": [
        "Loads a dataset of structures\n\n"
      ]
    },
    {
      "cell_type": "code",
      "execution_count": null,
      "metadata": {
        "collapsed": false
      },
      "outputs": [],
      "source": [
        "frames = ase.io.read(\"data/alpha-mu.xyz\", \":\")\n\nquaternions = []\n# converts the arrays from the format they are stored in to an array\n# format that can be processed by the ASE utilities\nfor a in frames:\n    a.positions += a.cell.diagonal() * 0.5\n    a.arrays[\"alpha\"] = np.array(\n        [\n            [axx, ayy, azz, axy, axz, ayz]\n            for (axx, ayy, azz, axy, axz, ayz) in zip(\n                a.arrays[\"axx\"],\n                a.arrays[\"ayy\"],\n                a.arrays[\"azz\"],\n                a.arrays[\"axy\"],\n                a.arrays[\"axz\"],\n                a.arrays[\"ayz\"],\n            )\n        ]\n    )\n\n    # interatomic separations (used to orient \"stuff\" later on)\n    dists = a.get_all_distances(mic=True)\n    np.fill_diagonal(dists, np.max(dists))\n    for i in range(len(a)):\n        nneigh = dists[i].argmin()\n        vec = a.get_distance(i, nneigh, vector=True, mic=True)\n        vec /= np.linalg.norm(vec)\n        quat = Rotation.align_vectors([np.array([0, 0, 1])], [vec])[0].as_quat()\n        quaternions.append(quat)"
      ]
    },
    {
      "cell_type": "markdown",
      "metadata": {},
      "source": [
        "## Shapes generation\n\nHere we define shapes that will later be used to create the input;\ninput generation can also be achieved as a single call, but in practice\nit is wise to define separate entities for better readability\n\n"
      ]
    },
    {
      "cell_type": "markdown",
      "metadata": {},
      "source": [
        "Cubes with smooth shading, centered on atoms. these are created as\n\"custom\" shapes and then are just scaled to atom-dependent sizes\n\n"
      ]
    },
    {
      "cell_type": "code",
      "execution_count": null,
      "metadata": {
        "collapsed": false
      },
      "outputs": [],
      "source": [
        "atom_sizes = {\"O\": 0.4, \"N\": 0.5, \"C\": 0.45, \"H\": 0.2}\nsmooth_cubes = dict(\n    kind=\"custom\",\n    parameters={\n        \"global\": {\n            # this list defines the vertices\n            \"vertices\": [\n                [-1, -1, -1],\n                [1, -1, -1],\n                [-1, 1, -1],\n                [1, 1, -1],\n                [-1, -1, 1],\n                [1, -1, 1],\n                [-1, 1, 1],\n                [1, 1, 1],\n            ],\n            # and these are the indices of the vertices that form the triangular mesh\n            \"simplices\": [\n                [0, 2, 1],\n                [1, 2, 3],\n                [4, 6, 5],\n                [5, 6, 7],\n                [0, 1, 4],\n                [0, 4, 2],\n                [1, 3, 5],\n                [2, 6, 3],\n                [1, 5, 4],\n                [2, 4, 6],\n                [3, 7, 5],\n                [3, 6, 7],\n            ],\n        },\n        # the cube is used at each atomic position, only difference being the scaling\n        \"atom\": [\n            {\"scale\": atom_sizes[label]}\n            for label in (list(frames[0].symbols) + list(frames[1].symbols))\n        ],\n    },\n)"
      ]
    },
    {
      "cell_type": "markdown",
      "metadata": {},
      "source": [
        "Structure-based shapes. also demonstrates how to achieve sharp-edge shading.\nrequires defining multiple times the same vertices\n\n"
      ]
    },
    {
      "cell_type": "code",
      "execution_count": null,
      "metadata": {
        "collapsed": false
      },
      "outputs": [],
      "source": [
        "sharp_cubes = dict(\n    kind=\"custom\",\n    parameters={\n        \"global\": {\n            # in order to get \"sharp\" edges, you need to define separate vertices for\n            # each facet\n            \"vertices\": [\n                [0, 0, 0],\n                [0, 1, 0],\n                [1, 1, 0],\n                [1, 0, 0],\n                [0, 0, 0],\n                [0, 0, 1],\n                [0, 1, 1],\n                [0, 1, 0],\n                [0, 1, 0],\n                [0, 1, 1],\n                [1, 1, 1],\n                [1, 1, 0],\n                [1, 1, 0],\n                [1, 1, 1],\n                [1, 0, 1],\n                [1, 0, 0],\n                [1, 0, 0],\n                [1, 0, 1],\n                [0, 0, 1],\n                [0, 0, 0],\n                [0, 0, 1],\n                [1, 0, 1],\n                [1, 1, 1],\n                [0, 1, 1],\n            ],\n            # simplices defining the mesh - two triangles per facet\n            \"simplices\": [\n                [0, 1, 2],\n                [2, 3, 0],\n                [4, 5, 6],\n                [6, 7, 4],\n                [8, 9, 10],\n                [10, 11, 8],\n                [12, 13, 14],\n                [14, 15, 12],\n                [16, 17, 18],\n                [18, 19, 16],\n                [20, 21, 22],\n                [22, 23, 20],\n            ],\n        },\n        # structure positioning is relative to the origin of the axes\n        \"structure\": [\n            {\"position\": [12, 14, 12], \"color\": 0xFF0000},\n            {\n                \"position\": [15, 14, 12],\n                \"color\": 0x00FF00,\n                \"orientation\": [0.5, -0.5, 0, 1 / np.sqrt(2)],\n            },\n        ],\n    },\n)"
      ]
    },
    {
      "cell_type": "markdown",
      "metadata": {},
      "source": [
        "Load vertices and simplices from an external file\nand use it to draw a very irreverent molecule\n\n"
      ]
    },
    {
      "cell_type": "code",
      "execution_count": null,
      "metadata": {
        "collapsed": false
      },
      "outputs": [],
      "source": [
        "irreverent_dict = np.load(\"data/irreverence.npz\")\nirreverent_shape = dict(\n    kind=\"custom\",\n    parameters={\n        \"global\": {\n            \"vertices\": irreverent_dict[\"vertices\"].tolist(),\n            \"simplices\": irreverent_dict[\"simplices\"].tolist(),\n            \"scale\": 0.02,\n        },\n        \"atom\": [\n            {\"orientation\": quaternions[i].tolist()}\n            for i in range(len(frames[0]) + len(frames[1]))\n        ],\n    },\n)"
      ]
    },
    {
      "cell_type": "markdown",
      "metadata": {},
      "source": [
        "Dipole moments visualized as arrows. this is just to demonstrate manual insertion,\nsee below to extract directly from the ASE info\n\n"
      ]
    },
    {
      "cell_type": "code",
      "execution_count": null,
      "metadata": {
        "collapsed": false
      },
      "outputs": [],
      "source": [
        "dipoles_manual = (\n    dict(\n        kind=\"arrow\",\n        parameters={\n            \"global\": {\n                \"baseRadius\": 0.2,\n                \"headRadius\": 0.3,\n                \"headLength\": 0.5,\n                \"color\": 0xFF00B0,\n            },\n            \"structure\": [\n                {\n                    \"position\": [12, 12, 12],\n                    \"vector\": frames[0].info[\"dipole_ccsd\"].tolist(),\n                },\n                {\n                    \"position\": [12, 12, 12],\n                    \"vector\": frames[1].info[\"dipole_ccsd\"].tolist(),\n                },\n            ],\n        },\n    ),\n)\n\n\ndipoles_auto = chemiscope.ase_vectors_to_arrows(frames, \"dipole_ccsd\", scale=0.5)\n# one can always update the defaults created by these automatic functions\ndipoles_auto[\"parameters\"][\"global\"] = {\n    \"baseRadius\": 0.2,\n    \"headRadius\": 0.3,\n    \"headLength\": 0.5,\n    \"color\": 0xFF00B0,\n}\nfor d in dipoles_auto[\"parameters\"][\n    \"structure\"\n]:  # center the dipoles close to the molecule\n    d[\"position\"] = [11, 11, 11]"
      ]
    },
    {
      "cell_type": "markdown",
      "metadata": {},
      "source": [
        "Create a visualization and save it as a file that can be viewed at chemiscope.org\n\n"
      ]
    },
    {
      "cell_type": "code",
      "execution_count": null,
      "metadata": {
        "collapsed": false
      },
      "outputs": [],
      "source": [
        "chemiscope.write_input(\n    \"shapes-example.json.gz\",\n    frames=frames,\n    properties=chemiscope.extract_properties(frames, only=[\"alpha\"]),\n    shapes={\n        # cubes with smooth shading, centered on atoms\n        \"smooth_cubes\": smooth_cubes,\n        # demonstrates showing a \"global\" shape for each structure\n        \"cube\": sharp_cubes,\n        # (molecular) electric dipole\n        \"dipole\": dipoles_auto,\n        # atomic decomposition of the polarizability as ellipsoids. use utility to\n        # extract from the ASE frames\n        \"alpha\": chemiscope.ase_tensors_to_ellipsoids(\n            frames, \"alpha\", force_positive=True, scale=0.2\n        ),\n        # shapes with a bit of flair\n        \"irreverence\": irreverent_shape,\n    },\n    # the write_input function also allows defining the default visualization settings\n    settings={\n        \"map\": {\n            \"x\": {\"property\": \"alpha[1]\"},\n            \"y\": {\"property\": \"alpha[2]\"},\n            \"z\": {\"property\": \"alpha[3]\"},\n            \"palette\": \"seismic\",\n            \"color\": {\"property\": \"\"},\n        },\n        \"structure\": [\n            {\n                \"spaceFilling\": False,\n                \"atomLabels\": False,\n                \"atoms\": False,\n                # multiple shapes can be visualized at the same time!\n                \"shape\": \"alpha,dipole\",\n                \"axes\": \"off\",\n                \"keepOrientation\": False,\n                \"playbackDelay\": 700,\n                \"environments\": {\n                    \"activated\": True,\n                    \"bgColor\": \"CPK\",\n                    \"bgStyle\": \"licorice\",\n                    \"center\": False,\n                    \"cutoff\": 0.5,\n                },\n            }\n        ],\n    },\n    environments=chemiscope.all_atomic_environments(frames),\n)"
      ]
    },
    {
      "cell_type": "markdown",
      "metadata": {},
      "source": [
        "The file can also be viewed in a notebook. Use `chemiscope.show` above to bypass the\ncreation of a JSON file and directly create a viewer.\n\n"
      ]
    },
    {
      "cell_type": "code",
      "execution_count": null,
      "metadata": {
        "collapsed": false
      },
      "outputs": [],
      "source": [
        "chemiscope.show_input(\"shapes-example.json.gz\", mode=\"structure\")"
      ]
    }
  ],
  "metadata": {
    "kernelspec": {
      "display_name": "Python 3",
      "language": "python",
      "name": "python3"
    },
    "language_info": {
      "codemirror_mode": {
        "name": "ipython",
        "version": 3
      },
      "file_extension": ".py",
      "mimetype": "text/x-python",
      "name": "python",
      "nbconvert_exporter": "python",
      "pygments_lexer": "ipython3",
      "version": "3.11.13"
    }
  },
  "nbformat": 4,
  "nbformat_minor": 0
}