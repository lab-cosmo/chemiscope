{
  "cells": [
    {
      "cell_type": "markdown",
      "metadata": {},
      "source": [
        "\n# Simple chemiscope input\n\nThis example demonstrates the basic usage of the chemiscope package, reading structures\nand properties from an ASE package and preparing a chemiscope file to visualize them.\nUse `chemiscope.show` in a Jupyter notebook for interactive visualization\n"
      ]
    },
    {
      "cell_type": "code",
      "execution_count": null,
      "metadata": {
        "collapsed": false
      },
      "outputs": [],
      "source": [
        "import ase.io\n\nimport chemiscope"
      ]
    },
    {
      "cell_type": "markdown",
      "metadata": {},
      "source": [
        "Load structures from an extended xyz file\n\n"
      ]
    },
    {
      "cell_type": "code",
      "execution_count": null,
      "metadata": {
        "collapsed": false
      },
      "outputs": [],
      "source": [
        "frames = ase.io.read(\"data/showcase.xyz\", \":\")"
      ]
    },
    {
      "cell_type": "markdown",
      "metadata": {},
      "source": [
        "A chemiscope widget can be used to visualize structures and properties.\nThis generates a Chemiscope object that is rendered to an interactive\nwidget when executed in a Jupyter notebook.\n\n"
      ]
    },
    {
      "cell_type": "code",
      "execution_count": null,
      "metadata": {
        "collapsed": false
      },
      "outputs": [],
      "source": [
        "chemiscope.show(\n    frames=frames,\n    # quickly extract properties from the ASE frames. nb: if you're doing this for\n    # sharing, don't forget to also include metadata such as units and description\n    properties=chemiscope.extract_properties(frames, only=[\"dipole_ccsd\", \"ccsd_pol\"]),\n    # it's always good to set some metadata to explain what the dataset - title is bare\n    # minimum\n    meta=dict(name=\"Dipole and polarizability\"),\n    # it is possible to set _all_ visualization parameters with a dictionary format.\n    # this is a shortcut for the most basic ones\n    settings=chemiscope.quick_settings(\n        x=\"ccsd_pol[1]\", y=\"ccsd_pol[2]\", color=\"dipole_ccsd[1]\"\n    ),\n)"
      ]
    },
    {
      "cell_type": "markdown",
      "metadata": {},
      "source": [
        "For sharing with collaborators, or when one does not want to use an interactive\nnotebook, one can also write a JSON (or compressed JSON) file that contains all\ninformation about structures and properties, and can be viewed at chemiscope.org\nSave as a file that can be viewed at chemiscope.org\n\n"
      ]
    },
    {
      "cell_type": "code",
      "execution_count": null,
      "metadata": {
        "collapsed": false
      },
      "outputs": [],
      "source": [
        "chemiscope.write_input(\n    \"showcase.json.gz\",\n    frames=frames,\n    properties=chemiscope.extract_properties(frames, only=[\"dipole_ccsd\", \"ccsd_pol\"]),\n    meta=dict(name=\"Dipole and polarizability\"),\n    settings=chemiscope.quick_settings(\n        x=\"ccsd_pol[1]\", y=\"ccsd_pol[2]\", color=\"dipole_ccsd[1]\"\n    ),\n)"
      ]
    },
    {
      "cell_type": "markdown",
      "metadata": {},
      "source": [
        "In a notebook it is also possible to load a `.json` file and create an interactive\nwidget from it.\n\n"
      ]
    },
    {
      "cell_type": "code",
      "execution_count": null,
      "metadata": {
        "collapsed": false
      },
      "outputs": [],
      "source": [
        "chemiscope.show_input(\"showcase.json.gz\")"
      ]
    }
  ],
  "metadata": {
    "kernelspec": {
      "display_name": "Python 3",
      "language": "python",
      "name": "python3"
    },
    "language_info": {
      "codemirror_mode": {
        "name": "ipython",
        "version": 3
      },
      "file_extension": ".py",
      "mimetype": "text/x-python",
      "name": "python",
      "nbconvert_exporter": "python",
      "pygments_lexer": "ipython3",
      "version": "3.11.13"
    }
  },
  "nbformat": 4,
  "nbformat_minor": 0
}