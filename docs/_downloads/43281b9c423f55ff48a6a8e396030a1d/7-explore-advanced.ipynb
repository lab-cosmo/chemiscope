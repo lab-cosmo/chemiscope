{
  "cells": [
    {
      "cell_type": "markdown",
      "metadata": {},
      "source": [
        "\n\n# Advanced dataset exploration\n\nThe `previous example <explore-example>` introduced :py:func:`chemiscope.explore`\nand how to use it for automatic exploration of dataset. In this example, we'll show some\nmore representations and give additional featurizers you can use in your own code.\n"
      ]
    },
    {
      "cell_type": "code",
      "execution_count": null,
      "metadata": {
        "collapsed": false
      },
      "outputs": [],
      "source": [
        "import os\n\nimport ase.io\nimport numpy as np\nimport requests\n\nimport chemiscope\n\n\ndef fetch_dataset(filename, base_url=\"https://zenodo.org/records/12748925/files/\"):\n    \"\"\"Helper function to load the pre-computed examples\"\"\"\n    local_path = \"data/\" + filename\n    if not os.path.isfile(local_path):\n        response = requests.get(base_url + filename)\n        with open(local_path, \"wb\") as file:\n            file.write(response.content)\n\n\nfetch_dataset(\"mace-off-tsne-qm9.json.gz\")"
      ]
    },
    {
      "cell_type": "markdown",
      "metadata": {},
      "source": [
        "## Example with MACE-OFF and t-SNE\n\nIn this part, we are going to define ``featurize`` function that calculates desciptors\nwith [MACE-OFF](https://github.com/ACEsuit/mace) and uses [t-SNE](https://scikit-learn.org/stable/modules/generated/sklearn.manifold.TSNE.html) for\nthe dimensionality reduction.\n\nThe dependencies for this example can be installed with the following command:\n\n.. code:: bash\n\n    pip install mace-torch scikit-learn\n\n"
      ]
    },
    {
      "cell_type": "markdown",
      "metadata": {},
      "source": [
        "Let's import the necessary libraries.\n\n"
      ]
    },
    {
      "cell_type": "code",
      "execution_count": null,
      "metadata": {
        "collapsed": false
      },
      "outputs": [],
      "source": [
        "from mace.calculators import mace_off  # noqa\nfrom sklearn.manifold import TSNE  # noqa"
      ]
    },
    {
      "cell_type": "markdown",
      "metadata": {},
      "source": [
        "Load the dataset, in our example we are reading the organic molecules.\n\n"
      ]
    },
    {
      "cell_type": "code",
      "execution_count": null,
      "metadata": {
        "collapsed": false
      },
      "outputs": [],
      "source": [
        "qm9_frames = ase.io.read(\"data/explore_qm9.xyz\", \":\")"
      ]
    },
    {
      "cell_type": "markdown",
      "metadata": {},
      "source": [
        "Now, we are defining a ``featurize`` function. As on the previous example, it should\ntake ``frames`` and ``environments`` as the inputs and return an array of features.\n\n"
      ]
    },
    {
      "cell_type": "code",
      "execution_count": null,
      "metadata": {
        "collapsed": false
      },
      "outputs": [],
      "source": [
        "def mace_off_tsne(frames, environments):\n    if environments is not None:\n        raise ValueError(\"'environments' are not supported by this featurizer\")\n\n    # At first, we initialize a mace_off calculator:\n    descriptor_opt = {\"model\": \"small\", \"device\": \"cpu\", \"default_dtype\": \"float64\"}\n    calculator = mace_off(**descriptor_opt)\n\n    # Calculate MACE features for each frame\n    descriptors = []\n    for frame in frames:\n        structure_avg = np.mean(\n            # Only use invariant descriptors (no rotational components)\n            (calculator.get_descriptors(frame, invariants_only=True)),\n            axis=0,  # Average the descriptors over all atoms in the frame\n        )\n        descriptors.append(structure_avg)\n    descriptors = np.array(descriptors)\n\n    # Get number of jobs for parallelisation\n    n_jobs = min(len(frames), os.cpu_count())\n\n    # Apply t-SNE\n    perplexity = min(30, descriptors.shape[0] - 1)\n    reducer = TSNE(n_components=2, perplexity=perplexity, n_jobs=n_jobs)\n    return reducer.fit_transform(descriptors)"
      ]
    },
    {
      "cell_type": "markdown",
      "metadata": {},
      "source": [
        "We can also extract the additional properties, for example, dipole moment.\n\n"
      ]
    },
    {
      "cell_type": "code",
      "execution_count": null,
      "metadata": {
        "collapsed": false
      },
      "outputs": [],
      "source": [
        "properties = chemiscope.extract_properties(qm9_frames, only=[\"mu\"])"
      ]
    },
    {
      "cell_type": "markdown",
      "metadata": {},
      "source": [
        "Provide the created featurizer and the properties to :py:func:`chemiscope.explore`.\n\n"
      ]
    },
    {
      "cell_type": "code",
      "execution_count": null,
      "metadata": {
        "collapsed": false
      },
      "outputs": [],
      "source": [
        "cs = chemiscope.explore(qm9_frames, featurizer=mace_off_tsne, properties=properties)"
      ]
    },
    {
      "cell_type": "markdown",
      "metadata": {},
      "source": [
        "Here we display the visualization of the pre-computed data using the described\nfunction for 6k structures taken from the [QM9](https://jla-gardner.github.io/load-atoms/index.html) dataset. The map is zoomed in\nto highlight a cluster of zwitterions grouped together by running the previously\ndefined ``mace_off_tsne`` featurizer.\n\n"
      ]
    },
    {
      "cell_type": "code",
      "execution_count": null,
      "metadata": {
        "collapsed": false
      },
      "outputs": [],
      "source": [
        "chemiscope.show_input(\"data/mace-off-tsne-qm9.json.gz\")"
      ]
    },
    {
      "cell_type": "markdown",
      "metadata": {},
      "source": [
        "## Example with MACE-MP0, t-SNE and environments\n\nThis example demonstrates how to compute descriptors using the MACE-MP0 and t-SNE with\n``environments`` parameter specifying which atoms in the frames are used for\ncalculating the descriptors.\n\nFirstly, import mace library.\n\n"
      ]
    },
    {
      "cell_type": "code",
      "execution_count": null,
      "metadata": {
        "collapsed": false
      },
      "outputs": [],
      "source": [
        "from mace.calculators import mace_mp  # noqa"
      ]
    },
    {
      "cell_type": "markdown",
      "metadata": {},
      "source": [
        "Load the frames. In this example we are loading the reduced M3CD dataset.\n\n"
      ]
    },
    {
      "cell_type": "code",
      "execution_count": null,
      "metadata": {
        "collapsed": false
      },
      "outputs": [],
      "source": [
        "m3cd_frames = ase.io.read(\"data/explore_m3cd.xyz\", \":\")"
      ]
    },
    {
      "cell_type": "markdown",
      "metadata": {},
      "source": [
        "We are defining a featurizer function by basically repeating the steps from the\nprevious example but using different MACE calculator.\n\n"
      ]
    },
    {
      "cell_type": "code",
      "execution_count": null,
      "metadata": {
        "collapsed": false
      },
      "outputs": [],
      "source": [
        "def mace_mp0_tsne(frames, environments):\n    # Initialize a mace-mp0 calculator\n    descriptor_opt = {\"model\": \"small\", \"device\": \"cpu\", \"default_dtype\": \"float64\"}\n    calculator = mace_mp(**descriptor_opt)\n\n    # Calculate the features\n    if environments is None:\n        descriptors = []\n        for frame in frames:\n            structure_avg = np.mean(\n                (calculator.get_descriptors(frame, invariants_only=True)),\n                axis=0,\n            )\n            descriptors.append(structure_avg)\n    else:\n        grouped_envs = {}\n        unique_structures = set()\n\n        # Group atom indices from environments\n        for structure_index, atom_index, _cutoff in environments:\n            if structure_index not in grouped_envs:\n                grouped_envs[structure_index] = []\n            grouped_envs[structure_index].append(atom_index)\n            unique_structures.add(structure_index)\n\n        # Compute descriptors per specified atom\n        descriptors = []\n        for structure_index in sorted(grouped_envs):\n            atoms = frames[structure_index]\n            atom_indices = grouped_envs[structure_index]\n\n            full_descriptors = calculator.get_descriptors(atoms, invariants_only=True)\n            for atom_index in atom_indices:\n                descriptors.append(full_descriptors[atom_index])\n\n    descriptors = np.array(descriptors)\n\n    n_jobs = min(len(descriptors), os.cpu_count())\n\n    # Apply t-SNE\n    perplexity = min(30, descriptors.shape[0] - 1)\n    reducer = TSNE(n_components=2, perplexity=perplexity, n_jobs=n_jobs)\n    return reducer.fit_transform(descriptors)"
      ]
    },
    {
      "cell_type": "markdown",
      "metadata": {},
      "source": [
        "Provide a created function and environments to :py:func:`chemiscope.explore`. The\nenvironments are manually defined following the format ``[index of structure, index\nof atom, cutoff]``.\n\n"
      ]
    },
    {
      "cell_type": "code",
      "execution_count": null,
      "metadata": {
        "collapsed": false
      },
      "outputs": [],
      "source": [
        "chemiscope.explore(\n    m3cd_frames, featurizer=mace_mp0_tsne, environments=[(1, 2, 3.5), (2, 0, 3.5)]\n)"
      ]
    }
  ],
  "metadata": {
    "kernelspec": {
      "display_name": "Python 3",
      "language": "python",
      "name": "python3"
    },
    "language_info": {
      "codemirror_mode": {
        "name": "ipython",
        "version": 3
      },
      "file_extension": ".py",
      "mimetype": "text/x-python",
      "name": "python",
      "nbconvert_exporter": "python",
      "pygments_lexer": "ipython3",
      "version": "3.11.13"
    }
  },
  "nbformat": 4,
  "nbformat_minor": 0
}