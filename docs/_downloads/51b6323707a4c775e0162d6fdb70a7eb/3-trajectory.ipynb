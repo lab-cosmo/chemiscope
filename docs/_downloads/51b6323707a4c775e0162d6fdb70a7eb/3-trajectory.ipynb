{
  "cells": [
    {
      "cell_type": "markdown",
      "metadata": {},
      "source": [
        "\n# Trajectory plotting\n\nThis example demonstrates the visualization of trajectory data. It also includes\nvisualization of atomic forces.\n\nThe same parameters can be used with `chemiscope.show` to visualize an interactive\nwidget in a Jupyter notebook.\n"
      ]
    },
    {
      "cell_type": "code",
      "execution_count": null,
      "metadata": {
        "collapsed": false
      },
      "outputs": [],
      "source": [
        "import ase.io\nimport numpy as np\n\nimport chemiscope"
      ]
    },
    {
      "cell_type": "markdown",
      "metadata": {},
      "source": [
        "Load structures and properties\n\n"
      ]
    },
    {
      "cell_type": "code",
      "execution_count": null,
      "metadata": {
        "collapsed": false
      },
      "outputs": [],
      "source": [
        "frames = ase.io.read(\"data/trajectory.xyz\", \":\")\n\nproperties = {\n    # concise definition of a property, with just an array and the type\n    # inferred by the size\n    \"index\": np.arange(len(frames)),\n    # an example of the verbose definition\n    \"energy\": {\n        \"target\": \"structure\",\n        \"values\": [frame.info[\"dftb_energy_eV\"] for frame in frames],\n        \"units\": \"eV\",\n        \"description\": \"potential energy, computed with DFTB+\",\n    },\n}"
      ]
    },
    {
      "cell_type": "markdown",
      "metadata": {},
      "source": [
        "Create a visualization and save it as a file that can be viewed at chemiscope.org\n\n"
      ]
    },
    {
      "cell_type": "code",
      "execution_count": null,
      "metadata": {
        "collapsed": false
      },
      "outputs": [],
      "source": [
        "chemiscope.write_input(\n    \"trajectory-md.json.gz\",\n    # dataset metadata can also be included, to provide a self-contained description\n    # of the data, authors and references\n    meta={\n        \"name\": \"Allyl alcohol MD trajectory.\",\n        \"description\": (\n            \"This dataset contains data from a DFTB+ trajectory of allyl alcohol.\"\n        ),\n        \"authors\": [\"The chemiscope developers\"],\n        \"references\": [\n            (\n                \"G. Fraux, R. Cersonsky, and M. Ceriotti, \"\n                '\"Chemiscope: interactive structure-property explorer for materials '\n                'and molecules,\" JOSS 5(51), 2117 (2020).'\n            )\n        ],\n    },\n    frames=frames,\n    properties=properties,\n    # visualize forces as vectors\n    shapes={\n        \"forces\": chemiscope.ase_vectors_to_arrows(\n            frames, \"dftb_forces_eV_per_Ang\", scale=1, radius=0.15\n        )\n    },\n    settings={  # these are reasonable settings for trajectory visualization\n        \"structure\": [\n            {\n                \"keepOrientation\": True,\n                \"playbackDelay\": 100,\n                \"shape\": \"forces\",  # visualize force vectors\n            }\n        ],\n        \"map\": {\n            \"joinPoints\": True,\n        },\n    },\n)"
      ]
    },
    {
      "cell_type": "markdown",
      "metadata": {},
      "source": [
        "The file can also be viewed in a notebook. Use `chemiscope.show` above to bypass the\ncreation of a JSON file and directly create a viewer.\n\n"
      ]
    },
    {
      "cell_type": "code",
      "execution_count": null,
      "metadata": {
        "collapsed": false
      },
      "outputs": [],
      "source": [
        "chemiscope.show_input(\"trajectory-md.json.gz\")"
      ]
    }
  ],
  "metadata": {
    "kernelspec": {
      "display_name": "Python 3",
      "language": "python",
      "name": "python3"
    },
    "language_info": {
      "codemirror_mode": {
        "name": "ipython",
        "version": 3
      },
      "file_extension": ".py",
      "mimetype": "text/x-python",
      "name": "python",
      "nbconvert_exporter": "python",
      "pygments_lexer": "ipython3",
      "version": "3.11.13"
    }
  },
  "nbformat": 4,
  "nbformat_minor": 0
}