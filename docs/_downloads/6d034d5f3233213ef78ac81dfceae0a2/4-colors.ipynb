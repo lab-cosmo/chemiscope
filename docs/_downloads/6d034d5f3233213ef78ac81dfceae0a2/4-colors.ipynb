{
  "cells": [
    {
      "cell_type": "markdown",
      "metadata": {},
      "source": [
        "\n# Atom property coloring\n\nThis example demonstrates how to color atoms based on scalar properties.\n\nNote that the same parameters can be used with `chemiscope.show` to visualize an\ninteractive widget in a Jupyter notebook.\n"
      ]
    },
    {
      "cell_type": "code",
      "execution_count": null,
      "metadata": {
        "collapsed": false
      },
      "outputs": [],
      "source": [
        "import ase.io\nimport numpy as np\n\nimport chemiscope"
      ]
    },
    {
      "cell_type": "markdown",
      "metadata": {},
      "source": [
        "Load a dataset of structures containing polarizability and dipole data\n\n"
      ]
    },
    {
      "cell_type": "code",
      "execution_count": null,
      "metadata": {
        "collapsed": false
      },
      "outputs": [],
      "source": [
        "frames = ase.io.read(\"data/alpha-mu.xyz\", \":\")"
      ]
    },
    {
      "cell_type": "markdown",
      "metadata": {},
      "source": [
        "Compute some scalar quantities to display as atom coloring\n\n"
      ]
    },
    {
      "cell_type": "code",
      "execution_count": null,
      "metadata": {
        "collapsed": false
      },
      "outputs": [],
      "source": [
        "polarizability = []\nalpha_eigenvalues = []\nanisotropy = []\n\nfor frame in frames:\n    # center molecule in the box\n    frame.positions += frame.cell.diagonal() * 0.5\n    for axx, ayy, azz, axy, axz, ayz in zip(\n        frame.arrays[\"axx\"],\n        frame.arrays[\"ayy\"],\n        frame.arrays[\"azz\"],\n        frame.arrays[\"axy\"],\n        frame.arrays[\"axz\"],\n        frame.arrays[\"ayz\"],\n    ):\n        polarizability.append((axx + ayy + azz) / 3)\n\n        # one possible measure of anisotropy...\n        eigenvalues = np.linalg.eigvalsh(\n            [[axx, axy, axz], [axy, ayy, ayz], [axz, ayz, azz]]\n        )\n        alpha_eigenvalues.append(eigenvalues)\n\n        anisotropy.append(eigenvalues[2] - eigenvalues[0])"
      ]
    },
    {
      "cell_type": "markdown",
      "metadata": {},
      "source": [
        "Create a visualization and save it as a file that can be viewed at chemiscope.org\n\n"
      ]
    },
    {
      "cell_type": "code",
      "execution_count": null,
      "metadata": {
        "collapsed": false
      },
      "outputs": [],
      "source": [
        "chemiscope.write_input(\n    \"colors-example.json.gz\",\n    frames=frames,\n    # properties can also be extracted from the ASE.Atoms frames\n    properties={\n        \"polarizability\": np.vstack(polarizability),\n        \"anisotropy\": np.vstack(anisotropy),\n        \"alpha_eigenvalues\": np.vstack(alpha_eigenvalues),\n    },\n    # it is also possible to define the default visualization settings, e.g. map axes,\n    # color property and palette, optionally\n    settings={\n        \"map\": {\n            \"x\": {\"property\": \"alpha_eigenvalues[1]\"},\n            \"y\": {\"property\": \"alpha_eigenvalues[2]\"},\n            \"z\": {\"property\": \"alpha_eigenvalues[3]\"},\n            \"color\": {\"property\": \"anisotropy\", \"palette\": \"inferno\"},\n        },\n        \"structure\": [\n            {\n                \"color\": {\"property\": \"anisotropy\", \"palette\": \"bwr\"},\n            }\n        ],\n    },\n    # the properties we want to visualise are atomic properties - in order to view them\n    # in map panel we must indicate the list of environments (all atoms in this case)\n    environments=chemiscope.all_atomic_environments(frames),\n)"
      ]
    },
    {
      "cell_type": "markdown",
      "metadata": {},
      "source": [
        "The file can also be viewed in a notebook. Use `chemiscope.show` above to bypass the\ncreation of a JSON file and directly create a viewer.\n\n"
      ]
    },
    {
      "cell_type": "code",
      "execution_count": null,
      "metadata": {
        "collapsed": false
      },
      "outputs": [],
      "source": [
        "chemiscope.show_input(\"colors-example.json.gz\")"
      ]
    }
  ],
  "metadata": {
    "kernelspec": {
      "display_name": "Python 3",
      "language": "python",
      "name": "python3"
    },
    "language_info": {
      "codemirror_mode": {
        "name": "ipython",
        "version": 3
      },
      "file_extension": ".py",
      "mimetype": "text/x-python",
      "name": "python",
      "nbconvert_exporter": "python",
      "pygments_lexer": "ipython3",
      "version": "3.11.13"
    }
  },
  "nbformat": 4,
  "nbformat_minor": 0
}