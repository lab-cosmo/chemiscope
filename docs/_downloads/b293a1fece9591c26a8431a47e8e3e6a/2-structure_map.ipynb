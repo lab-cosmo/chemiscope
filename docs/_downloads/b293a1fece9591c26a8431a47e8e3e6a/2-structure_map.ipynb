{
  "cells": [
    {
      "cell_type": "markdown",
      "metadata": {},
      "source": [
        "\n# Structure-property maps\n\nThis example demonstrates the visualization of structures (or environments) using\ndata-driven descriptors of their geometry, to cluster together similar motifs. Here the\ngeometric descriptors have been computed by PCA starting from SOAP representations, but\nare provided as text files to avoid external dependencies for the example.\n\nThe same parameters can be used with `chemiscope.show` to visualize an interactive\nwidget in a Jupyter notebook.\n"
      ]
    },
    {
      "cell_type": "code",
      "execution_count": null,
      "metadata": {
        "collapsed": false
      },
      "outputs": [],
      "source": [
        "import ase.io\nimport numpy as np\n\nimport chemiscope"
      ]
    },
    {
      "cell_type": "markdown",
      "metadata": {},
      "source": [
        "Load structures\n\n"
      ]
    },
    {
      "cell_type": "code",
      "execution_count": null,
      "metadata": {
        "collapsed": false
      },
      "outputs": [],
      "source": [
        "frames = ase.io.read(\"data/trajectory.xyz\", \":\")"
      ]
    },
    {
      "cell_type": "markdown",
      "metadata": {},
      "source": [
        "Load the SOAP-PCA descriptors. chemiscope does not provide analysis routines, but you\ncan look up for instance scikit-matter as a package to do dimensionality reduction\nanalyses.\n\n"
      ]
    },
    {
      "cell_type": "code",
      "execution_count": null,
      "metadata": {
        "collapsed": false
      },
      "outputs": [],
      "source": [
        "pca_atom = np.loadtxt(\"data/trajectory-pca_atom.dat\")\npca_structure = np.loadtxt(\"data/trajectory-pca_structure.dat\")"
      ]
    },
    {
      "cell_type": "markdown",
      "metadata": {},
      "source": [
        "When both environments and structure property are present, a toggle allows you to\nswitch between both modes.\n\n<div class=\"alert alert-info\"><h4>Note</h4><p>if there are properties stored in the ASE frames, you can extract them with\n    chemiscope.extract_properties(frames)</p></div>\n\n"
      ]
    },
    {
      "cell_type": "code",
      "execution_count": null,
      "metadata": {
        "collapsed": false
      },
      "outputs": [],
      "source": [
        "properties = {\n    # concise definition of a property, with just an array and the type\n    # inferred by the size\n    \"structure PCA\": pca_structure,\n    \"atom PCA\": pca_atom,\n    # an example of the verbose definition\n    \"energy\": {\n        \"target\": \"structure\",\n        \"values\": [frame.info[\"dftb_energy_eV\"] for frame in frames],\n        \"units\": \"eV\",\n        \"description\": \"potential energy, computed with DFTB+\",\n    },\n}"
      ]
    },
    {
      "cell_type": "markdown",
      "metadata": {},
      "source": [
        "Environment descriptors have only been computed for C and O atoms.\n\n"
      ]
    },
    {
      "cell_type": "code",
      "execution_count": null,
      "metadata": {
        "collapsed": false
      },
      "outputs": [],
      "source": [
        "environments = []\ncutoff = 4.0\nfor frame_i, frame in enumerate(frames):\n    for atom_i, atom in enumerate(frame.numbers):\n        if atom == 6 or atom == 8:\n            environments.append((frame_i, atom_i, cutoff))"
      ]
    },
    {
      "cell_type": "markdown",
      "metadata": {},
      "source": [
        "Create a visualization and save it as a file that can be viewed at chemiscope.org\n\n"
      ]
    },
    {
      "cell_type": "code",
      "execution_count": null,
      "metadata": {
        "collapsed": false
      },
      "outputs": [],
      "source": [
        "chemiscope.write_input(\n    \"trajectory-pca.json.gz\",\n    # dataset metadata can also be included, to provide a self-contained description\n    # of the data, authors and references\n    meta={\n        \"name\": \"Allyl alcohol PCA map\",\n        \"description\": (\n            \"This dataset contains a PCA map of the C and O environments \"\n            \"from a few frames out of a MD simulation of allyl alcohol, C3H5OH.\"\n        ),\n        \"authors\": [\"The chemiscope developers\"],\n        \"references\": [\n            (\n                \"G. Fraux, R. Cersonsky, and M. Ceriotti, \"\n                '\"Chemiscope: interactive structure-property explorer for materials '\n                'and molecules,\" JOSS 5(51), 2117 (2020).'\n            )\n        ],\n    },\n    frames=frames,\n    properties=properties,\n    environments=environments,\n    settings={  # these are reasonable settings for trajectory visualization\n        \"structure\": [{\"keepOrientation\": True, \"playbackDelay\": 100}]\n    },\n)"
      ]
    },
    {
      "cell_type": "markdown",
      "metadata": {},
      "source": [
        "The file can also be viewed in a notebook. Use `chemiscope.show` above to bypass the\ncreation of a JSON file and directly create a viewer.\n\n"
      ]
    },
    {
      "cell_type": "code",
      "execution_count": null,
      "metadata": {
        "collapsed": false
      },
      "outputs": [],
      "source": [
        "chemiscope.show_input(\"trajectory-pca.json.gz\")"
      ]
    }
  ],
  "metadata": {
    "kernelspec": {
      "display_name": "Python 3",
      "language": "python",
      "name": "python3"
    },
    "language_info": {
      "codemirror_mode": {
        "name": "ipython",
        "version": 3
      },
      "file_extension": ".py",
      "mimetype": "text/x-python",
      "name": "python",
      "nbconvert_exporter": "python",
      "pygments_lexer": "ipython3",
      "version": "3.11.13"
    }
  },
  "nbformat": 4,
  "nbformat_minor": 0
}