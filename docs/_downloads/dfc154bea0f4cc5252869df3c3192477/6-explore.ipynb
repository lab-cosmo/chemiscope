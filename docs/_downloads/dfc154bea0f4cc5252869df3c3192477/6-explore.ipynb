{
  "cells": [
    {
      "cell_type": "markdown",
      "metadata": {},
      "source": [
        "\n\n# Exploring dataset with chemiscope\n\nThe :py:func:`chemiscope.explore` function provides a streamlined way to visualize\ndatasets as the low dimensional maps. This approach provides a quick and interactive\noverview of dataset composition and structure without the need to manually implement and\nconfigure the representation processes. This is particularly useful when the specific\nchoice of hyperparameters does not significantly impact the resulting low-dimensionality\nmap.\n\nBy passing a list of [ase.Atoms](https://wiki.fysik.dtu.dk/ase/ase/atoms.html) objects\n(or similar structures from other libraries) to :py:func:`chemiscope.explore`, it is\npossible to generate a chemiscope widget, providing an immediate and intuitive\nvisualization of the dataset.\n\nBy default, the method uses the [PETMADFeaturizer](https://arxiv.org/abs/2506.19674),\nwhich computes representations as the [PET-MAD](https://arxiv.org/abs/2503.14118)\nfeatures and maps them a low-dimensional MAD dataset latent space.\n\nFor more advanced use cases, :py:func:`chemiscope.explore` allows to provide a custom\nfunction for representation and dimensionality reduction.\n\nTo use this function, some additional dependencies are required. You can install them\nwith the following command:\n\n.. code:: bash\n\n    pip install chemiscope[explore]\n\nIn this example, we will explore basic and advanced use cases, from simple dataset\nvisualization to custom featurization.\n\nFirst, let's import the necessary packages that will be used throughout the examples.\n"
      ]
    },
    {
      "cell_type": "code",
      "execution_count": null,
      "metadata": {
        "collapsed": false
      },
      "outputs": [],
      "source": [
        "import ase.io\n\nimport chemiscope"
      ]
    },
    {
      "cell_type": "markdown",
      "metadata": {},
      "source": [
        "## Basic example\n\nThis example shows the basic usage of :py:func:`chemiscope.explore`. First, load a\ndataset of structures as [ase.Atoms](https://wiki.fysik.dtu.dk/ase/ase/atoms.html)\nobjects. Here, we use the samples from the [M3CD dataset](https://doi.org/10.24435/materialscloud:rw-t0):\n\n"
      ]
    },
    {
      "cell_type": "code",
      "execution_count": null,
      "metadata": {
        "collapsed": false
      },
      "outputs": [],
      "source": [
        "frames = ase.io.read(\"data/explore_m3cd.xyz\", \":\")"
      ]
    },
    {
      "cell_type": "markdown",
      "metadata": {},
      "source": [
        "Next, pass the frames to :py:func:`chemiscope.explore` to generate an interactive\nChemiscope. In this basic case, no featurizer function is provided, so\n[PETMADFeaturizer](https://arxiv.org/abs/2506.19674) is used:\n\n"
      ]
    },
    {
      "cell_type": "code",
      "execution_count": null,
      "metadata": {
        "collapsed": false
      },
      "outputs": [],
      "source": [
        "chemiscope.explore(frames)"
      ]
    },
    {
      "cell_type": "markdown",
      "metadata": {},
      "source": [
        "Besides this, it is possible to specify atom-centered environments and properties.\nEnvironments can be manually defined as a list of tuples in the format\n``(structure_index, atom_index, cutoff)`` or extracted automatically using\n:py:func:`chemiscope.all_atomic_environments`. We can also configure visualisation\nsettings, such as axis and color properties.\n\n"
      ]
    },
    {
      "cell_type": "code",
      "execution_count": null,
      "metadata": {
        "collapsed": false
      },
      "outputs": [],
      "source": [
        "properties = chemiscope.extract_properties(frames, only=[\"energy\"])\nenvironments = [(0, 0, 3.5), (1, 0, 3.5), (2, 1, 3.5)]\nsettings = chemiscope.quick_settings(x=\"features[1]\", y=\"features[2]\", color=\"energy\")\nchemiscope.explore(\n    frames, environments=environments, properties=properties, settings=settings\n)"
      ]
    },
    {
      "cell_type": "markdown",
      "metadata": {},
      "source": [
        "## Example with custom featurizer\n\nFor advanced use cases, you can define a custom featurization function. For example,\nwe can describe structures based on their chemical compositions. The function must\ntake two arguments: ``frames`` (the input structures) and ``environments`` (optional\nargument for the atom-centered environments). Below, we create a function to calculate\nfractional composition vectors and apply PCA for dimensionality reduction:\n\n"
      ]
    },
    {
      "cell_type": "code",
      "execution_count": null,
      "metadata": {
        "collapsed": false
      },
      "outputs": [],
      "source": [
        "import numpy as np  # noqa\nfrom sklearn.decomposition import PCA  # noqa\n\n\ndef fractional_composition_featurize(frames, environments):\n    if environments is not None:\n        raise ValueError(\"'environments' are not supported by this featurizer\")\n\n    dimentionality = 100\n\n    features = []\n\n    for frame in frames:\n        unique, counts = np.unique(frame.numbers, return_counts=True)\n        fractions = counts / len(frame.numbers)\n\n        feature_vector = np.zeros(dimentionality)\n        for element_number, franction in zip(unique, fractions):\n            feature_vector[element_number - 1] = franction\n\n        features.append(feature_vector)\n\n    pca = PCA(n_components=3)\n    return pca.fit_transform(features)"
      ]
    },
    {
      "cell_type": "markdown",
      "metadata": {},
      "source": [
        "Pass the custom featurizer to :py:func:`chemiscope.explore`:\n\n"
      ]
    },
    {
      "cell_type": "code",
      "execution_count": null,
      "metadata": {
        "collapsed": false
      },
      "outputs": [],
      "source": [
        "settings = chemiscope.quick_settings(x=\"features[1]\", y=\"features[2]\")\nchemiscope.explore(\n    frames,\n    featurize=fractional_composition_featurize,\n    settings=settings,\n)"
      ]
    },
    {
      "cell_type": "markdown",
      "metadata": {},
      "source": [
        "For more advanced examples, see the `next tutorial <advanced-explore-example>`.\n\n"
      ]
    }
  ],
  "metadata": {
    "kernelspec": {
      "display_name": "Python 3",
      "language": "python",
      "name": "python3"
    },
    "language_info": {
      "codemirror_mode": {
        "name": "ipython",
        "version": 3
      },
      "file_extension": ".py",
      "mimetype": "text/x-python",
      "name": "python",
      "nbconvert_exporter": "python",
      "pygments_lexer": "ipython3",
      "version": "3.11.13"
    }
  },
  "nbformat": 4,
  "nbformat_minor": 0
}