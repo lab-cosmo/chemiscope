{
  "cells": [
    {
      "cell_type": "markdown",
      "metadata": {},
      "source": [
        "\n# Using stk structures and showing custom bonds\n\nThis example demonstrates interfacing [stk](https://stk.readthedocs.io/en/stable/)\nwith chemiscope and the use of shapes to show custom bonding in a molecule.\n\n[stk](https://stk.readthedocs.io/en/stable/) comes with topology/bonding\ninformation by default (using the cheminformatic software rdkit).\n\nWe use [stko](https://stko-docs.readthedocs.io/en/latest/) to calculate\nsome rudimentary properties of `stk` molecules. `stko` can be installed with\n``pip install stko``.\n"
      ]
    },
    {
      "cell_type": "code",
      "execution_count": null,
      "metadata": {
        "collapsed": false
      },
      "outputs": [],
      "source": [
        "import itertools as it\n\nimport ase.io\nimport stk\nimport stko\nfrom rdkit.Chem import AllChem as rdkit\n\nimport chemiscope"
      ]
    },
    {
      "cell_type": "markdown",
      "metadata": {},
      "source": [
        "## Interfacing chemiscope with stk molecules\n\nGenerate a list of stk BuildingBlocks (representation of a molecule) with\nproperties. We start by constructing a cage and host-guest complex with stk.\n\n"
      ]
    },
    {
      "cell_type": "code",
      "execution_count": null,
      "metadata": {
        "collapsed": false
      },
      "outputs": [],
      "source": [
        "cage = stk.ConstructedMolecule(\n    topology_graph=stk.cage.FourPlusSix(\n        building_blocks=(\n            stk.BuildingBlock(\n                smiles=\"NCCN\",\n                functional_groups=[stk.PrimaryAminoFactory()],\n            ),\n            stk.BuildingBlock(\n                smiles=\"O=CC(C=O)C=O\",\n                functional_groups=[stk.AldehydeFactory()],\n            ),\n        ),\n        optimizer=stk.MCHammer(),\n    ),\n)\nhost_guest = stk.ConstructedMolecule(\n    topology_graph=stk.host_guest.Complex(\n        host=stk.BuildingBlock.init_from_molecule(cage),\n        guests=stk.host_guest.Guest(\n            building_block=stk.BuildingBlock(\"[Br][Br]\"),\n        ),\n    ),\n)"
      ]
    },
    {
      "cell_type": "markdown",
      "metadata": {},
      "source": [
        "Including using stk to interface with rdkit molecules.\n\n"
      ]
    },
    {
      "cell_type": "code",
      "execution_count": null,
      "metadata": {
        "collapsed": false
      },
      "outputs": [],
      "source": [
        "rdkitmol = rdkit.MolFromSmiles(\"Cc1ccccc1\")\nrdkitmol = rdkit.AddHs(rdkitmol)\nrdkit.Kekulize(rdkitmol)\nparams = rdkit.ETKDGv3()\nparams.randomSeed = 0xF00D\nrdkit.EmbedMolecule(rdkitmol, params)"
      ]
    },
    {
      "cell_type": "markdown",
      "metadata": {},
      "source": [
        "We can put this into a list of stk.Molecule objects.\n\n"
      ]
    },
    {
      "cell_type": "code",
      "execution_count": null,
      "metadata": {
        "collapsed": false
      },
      "outputs": [],
      "source": [
        "structures = [\n    # A mostly optimised cage molecule.\n    cage,\n    # A host guest molecule.\n    host_guest,\n    # From rdkit.\n    stk.BuildingBlock.init_from_rdkit_mol(rdkitmol),\n    # A metal-organic cage.\n    stk.ConstructedMolecule(\n        stk.cage.M2L4Lantern(\n            building_blocks=(\n                stk.BuildingBlock(\n                    smiles=\"[Pd+2]\",\n                    functional_groups=(\n                        stk.SingleAtom(stk.Pd(0, charge=2)) for i in range(4)\n                    ),\n                    position_matrix=[[0.0, 0.0, 0.0]],\n                ),\n                stk.BuildingBlock(\n                    smiles=(\"C1=NC=CC(C2=CC=CC(C3=CC=NC=C3)=C2)=C1\"),\n                    functional_groups=[\n                        stk.SmartsFunctionalGroupFactory(\n                            smarts=\"[#6]~[#7X2]~[#6]\",\n                            bonders=(1,),\n                            deleters=(),\n                        ),\n                    ],\n                ),\n            ),\n            # Ensure that bonds between the\n            # GenericFunctionalGroups of the ligand and the\n            # SingleAtom functional groups of the metal are\n            # dative.\n            reaction_factory=stk.DativeReactionFactory(\n                stk.GenericReactionFactory(\n                    bond_orders={\n                        frozenset(\n                            {\n                                stk.GenericFunctionalGroup,\n                                stk.SingleAtom,\n                            }\n                        ): 9,\n                    },\n                ),\n            ),\n        ),\n    ),\n]"
      ]
    },
    {
      "cell_type": "markdown",
      "metadata": {},
      "source": [
        "Here we use stko (https://stko-docs.readthedocs.io/en/latest/) to compute\nproperties of each molecule in the list and format it into the dictionary\nrequired by chemiscope.\n\n"
      ]
    },
    {
      "cell_type": "code",
      "execution_count": null,
      "metadata": {
        "collapsed": false
      },
      "outputs": [],
      "source": [
        "energy = stko.UFFEnergy(ignore_inter_interactions=False)\nshape_calc = stko.ShapeCalculator()\nproperties = {\n    \"uffenergy\": [energy.get_energy(molecule) for molecule in structures],\n    \"aspheriticty\": [\n        shape_calc.get_results(molecule).get_asphericity() for molecule in structures\n    ],\n}"
      ]
    },
    {
      "cell_type": "markdown",
      "metadata": {},
      "source": [
        "A chemiscope widget showing the result with standard bonding derived from the\nbonding topology in stk.\n\n"
      ]
    },
    {
      "cell_type": "code",
      "execution_count": null,
      "metadata": {
        "collapsed": false
      },
      "outputs": [],
      "source": [
        "chemiscope.show(\n    frames=structures,\n    properties=properties,\n    settings=chemiscope.quick_settings(\n        x=\"aspheriticty\",\n        y=\"uffenergy\",\n        color=\"\",\n        structure_settings={\n            \"atoms\": True,\n            \"bonds\": True,\n            \"spaceFilling\": False,\n        },\n    ),\n)"
      ]
    },
    {
      "cell_type": "markdown",
      "metadata": {},
      "source": [
        "Writing to a json.gz file, again without added bonding.\n\n"
      ]
    },
    {
      "cell_type": "code",
      "execution_count": null,
      "metadata": {
        "collapsed": false
      },
      "outputs": [],
      "source": [
        "chemiscope.write_input(\n    path=\"noshape_example.json.gz\",\n    frames=structures,\n    properties=properties,\n    meta=dict(name=\"Standard stk bonding.\"),\n    settings=chemiscope.quick_settings(\n        x=\"aspheriticty\",\n        y=\"uffenergy\",\n        color=\"\",\n        structure_settings={\n            \"atoms\": True,\n            \"bonds\": True,\n            \"spaceFilling\": False,\n        },\n    ),\n)"
      ]
    },
    {
      "cell_type": "markdown",
      "metadata": {},
      "source": [
        "For comparison, we show the same molecule imported with ASE versus stk, where\nchemiscope will automatically try to detect the bonds based on the geometry\n(because ASE does not contain this information), which will not be right due\nto the far-from equilibrium nature of the structure.\n\n"
      ]
    },
    {
      "cell_type": "code",
      "execution_count": null,
      "metadata": {
        "collapsed": false
      },
      "outputs": [],
      "source": [
        "structures[0].write(\"data/stk_cage.xyz\")\nchemiscope.show(\n    frames=[ase.io.read(\"data/stk_cage.xyz\")],\n    properties={i: [properties[i][0]] for i in properties},\n    settings=chemiscope.quick_settings(\n        x=\"aspheriticty\",\n        y=\"uffenergy\",\n        color=\"\",\n        structure_settings={\n            \"atoms\": True,\n            \"bonds\": True,\n            \"spaceFilling\": False,\n        },\n    ),\n)"
      ]
    },
    {
      "cell_type": "markdown",
      "metadata": {},
      "source": [
        "## Showing custom bonds beyond the existing topology\n\nWith the custom bond features, we can now overlay connections of interest on\nthe structure and existing topology by using, the\n`convert_stk_bonds_to_shapes` function.\nFor example, here, we show the cage topology graph of metal-organic cages\nas defined by the metal atoms only. We start by building a series of\nPd_nL_n2 metal-organic cages, with n=2,3,4,6 and the same organic ligand,\nusing stk.\n\n"
      ]
    },
    {
      "cell_type": "code",
      "execution_count": null,
      "metadata": {
        "collapsed": false
      },
      "outputs": [],
      "source": [
        "structures = [\n    # A metal-organic cage.\n    stk.ConstructedMolecule(\n        func(\n            building_blocks=(\n                stk.BuildingBlock(\n                    smiles=\"[Pd+2]\",\n                    functional_groups=(\n                        stk.SingleAtom(stk.Pd(0, charge=2)) for i in range(4)\n                    ),\n                    position_matrix=[[0.0, 0.0, 0.0]],\n                ),\n                stk.BuildingBlock(\n                    smiles=(\"C1=NC=CC(C2=CC=CC(C3=CC=NC=C3)=C2)=C1\"),\n                    functional_groups=[\n                        stk.SmartsFunctionalGroupFactory(\n                            smarts=\"[#6]~[#7X2]~[#6]\",\n                            bonders=(1,),\n                            deleters=(),\n                        ),\n                    ],\n                ),\n            ),\n            # Ensure that bonds between the\n            # GenericFunctionalGroups of the ligand and the\n            # SingleAtom functional groups of the metal are\n            # dative.\n            reaction_factory=stk.DativeReactionFactory(\n                stk.GenericReactionFactory(\n                    bond_orders={\n                        frozenset(\n                            {\n                                stk.GenericFunctionalGroup,\n                                stk.SingleAtom,\n                            }\n                        ): 9,\n                    },\n                ),\n            ),\n        ),\n    )\n    for func in (\n        stk.cage.M2L4Lantern,\n        stk.cage.M3L6,\n        stk.cage.M4L8,\n        stk.cage.M6L12Cube,\n    )\n]"
      ]
    },
    {
      "cell_type": "markdown",
      "metadata": {},
      "source": [
        "Again, we write some properties.\n\n"
      ]
    },
    {
      "cell_type": "code",
      "execution_count": null,
      "metadata": {
        "collapsed": false
      },
      "outputs": [],
      "source": [
        "energy = stko.UFFEnergy(ignore_inter_interactions=False)\nshape_calc = stko.ShapeCalculator()\nproperties = {\n    \"uffenergy\": [energy.get_energy(molecule) for molecule in structures],\n    \"aspheriticty\": [\n        shape_calc.get_results(molecule).get_asphericity() for molecule in structures\n    ],\n}"
      ]
    },
    {
      "cell_type": "markdown",
      "metadata": {},
      "source": [
        "Now, we use some stk features to extract the metal atoms, and create \"fake\"\nbonds between them.\n\n"
      ]
    },
    {
      "cell_type": "code",
      "execution_count": null,
      "metadata": {
        "collapsed": false
      },
      "outputs": [],
      "source": [
        "metal_atoms = [\n    # Atoms with atomic number 46 (Pd).\n    [i.get_id() for i in molecule.get_atoms() if i.get_atomic_number() == 46]\n    for molecule in structures\n]\n\nfake_bonds = [\n    # Combinations of those atoms, this does not filter for nearest neighbors.\n    [(a1id, a2id) for a1id, a2id in it.combinations(metal_atoms[i], 2)]\n    for i, molecule in enumerate(structures)\n]"
      ]
    },
    {
      "cell_type": "markdown",
      "metadata": {},
      "source": [
        "With these fake bonds, we can create a new list of stk structures only having\nthe fake bonds, to extract the shape dictionary defined by only the fake\nbonds. Note that these fake bonds could be arbitrarily defined, as long as\nthey map to the atoms in the original structure.\n\n"
      ]
    },
    {
      "cell_type": "code",
      "execution_count": null,
      "metadata": {
        "collapsed": false
      },
      "outputs": [],
      "source": [
        "structures_with_pd_pd_bonds = [\n    stk.BuildingBlock.init(\n        atoms=struct.get_atoms(),\n        # Only including fake bonds.\n        bonds=tuple(\n            stk.Bond(\n                atom1=next(struct.get_atoms(a1id)),\n                atom2=next(struct.get_atoms(a2id)),\n                order=1,\n            )\n            for a1id, a2id in fake_bonds[i]\n        ),\n        position_matrix=struct.get_position_matrix(),\n    )\n    for i, struct in enumerate(structures)\n]"
      ]
    },
    {
      "cell_type": "markdown",
      "metadata": {},
      "source": [
        "Another feature of the shape dictionary is that the user can alter the color\nand radius of the bonds.\n\n"
      ]
    },
    {
      "cell_type": "code",
      "execution_count": null,
      "metadata": {
        "collapsed": false
      },
      "outputs": [],
      "source": [
        "shape_dict = chemiscope.convert_stk_bonds_as_shapes(\n    frames=structures_with_pd_pd_bonds,\n    bond_color=\"#fc5500\",\n    bond_radius=0.2,\n)\n\n# Write the shape string for settings to turn them on automatically.\nshape_string = \",\".join(shape_dict.keys())"
      ]
    },
    {
      "cell_type": "markdown",
      "metadata": {},
      "source": [
        "Now, we show the structure with the new fake bonds overlaid\n(`bonds` and `shape` on).\n\n"
      ]
    },
    {
      "cell_type": "code",
      "execution_count": null,
      "metadata": {
        "collapsed": false
      },
      "outputs": [],
      "source": [
        "chemiscope.show(\n    frames=structures,\n    properties=properties,\n    shapes=shape_dict,\n    settings=chemiscope.quick_settings(\n        x=\"aspheriticty\",\n        y=\"uffenergy\",\n        color=\"\",\n        structure_settings={\n            \"shape\": shape_string,\n            \"atoms\": True,\n            \"bonds\": True,\n            \"spaceFilling\": False,\n        },\n    ),\n)"
      ]
    },
    {
      "cell_type": "markdown",
      "metadata": {},
      "source": [
        "Write to json file.\n\n"
      ]
    },
    {
      "cell_type": "code",
      "execution_count": null,
      "metadata": {
        "collapsed": false
      },
      "outputs": [],
      "source": [
        "chemiscope.write_input(\n    path=\"shape_example.json.gz\",\n    frames=structures,\n    properties=properties,\n    meta=dict(name=\"Added Pd-Pd bonds overlaid with the stk molecule.\"),\n    settings=chemiscope.quick_settings(\n        x=\"aspheriticty\",\n        y=\"uffenergy\",\n        color=\"\",\n        structure_settings={\n            \"shape\": shape_string,\n            \"atoms\": True,\n            \"bonds\": True,\n            \"spaceFilling\": False,\n        },\n    ),\n    shapes=shape_dict,\n)"
      ]
    }
  ],
  "metadata": {
    "kernelspec": {
      "display_name": "Python 3",
      "language": "python",
      "name": "python3"
    },
    "language_info": {
      "codemirror_mode": {
        "name": "ipython",
        "version": 3
      },
      "file_extension": ".py",
      "mimetype": "text/x-python",
      "name": "python",
      "nbconvert_exporter": "python",
      "pygments_lexer": "ipython3",
      "version": "3.11.13"
    }
  },
  "nbformat": 4,
  "nbformat_minor": 0
}