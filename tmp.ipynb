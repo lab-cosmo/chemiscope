{
 "cells": [
  {
   "cell_type": "code",
   "execution_count": 1,
   "metadata": {},
   "outputs": [],
   "source": [
    "import chemiscope\n",
    "import ase.io as ase_io\n",
    "import numpy as np"
   ]
  },
  {
   "cell_type": "code",
   "execution_count": 2,
   "metadata": {},
   "outputs": [],
   "source": [
    "frames = ase_io.read(\"../../Projects/ML-DOS/materialscloud_entry/Structures/traininig_dataset.xyz\", \":3\")"
   ]
  },
  {
   "cell_type": "code",
   "execution_count": 3,
   "metadata": {},
   "outputs": [],
   "source": [
    "vals = np.array([[[1, 2, 3, 9]], [[4, 5, 6, 8]], [[0, 0, 0, 0]]])"
   ]
  },
  {
   "cell_type": "code",
   "execution_count": 18,
   "metadata": {},
   "outputs": [],
   "source": [
    "props = {\"prop1\": {\"target\": \"structure\", \"values\" : vals},\n",
    "         \"prop2\": {\"target\": \"structure\", \"values\" : np.array([0, 1, 343]), \"parameters\": [\"param\"]},\n",
    "         \"prop3\": {\"target\": \"structure\", \"values\" : np.array([1, 2, -43]), \"parameters\": [\"param\"]}}\n",
    "params = {\"param\": {\"values\": np.array([1, 2, 3, 4])}}"
   ]
  },
  {
   "cell_type": "code",
   "execution_count": 19,
   "metadata": {},
   "outputs": [
    {
     "data": {
      "text/plain": [
       "(3, 1, 4)"
      ]
     },
     "execution_count": 19,
     "metadata": {},
     "output_type": "execute_result"
    }
   ],
   "source": [
    "vals.shape"
   ]
  },
  {
   "cell_type": "code",
   "execution_count": 20,
   "metadata": {},
   "outputs": [
    {
     "ename": "KeyError",
     "evalue": "'parameters'",
     "output_type": "error",
     "traceback": [
      "\u001b[0;31m---------------------------------------------------------------------------\u001b[0m",
      "\u001b[0;31mKeyError\u001b[0m                                  Traceback (most recent call last)",
      "Cell \u001b[0;32mIn[20], line 1\u001b[0m\n\u001b[0;32m----> 1\u001b[0m data \u001b[39m=\u001b[39m chemiscope\u001b[39m.\u001b[39;49mcreate_input(frames\u001b[39m=\u001b[39;49mframes, properties\u001b[39m=\u001b[39;49mprops, parameters\u001b[39m=\u001b[39;49mparams)\n",
      "File \u001b[0;32m~/source/miniconda3/lib/python3.9/site-packages/chemiscope/input.py:212\u001b[0m, in \u001b[0;36mcreate_input\u001b[0;34m(frames, meta, properties, environments, settings, parameters)\u001b[0m\n\u001b[1;32m    205\u001b[0m     properties \u001b[39m=\u001b[39m _expand_properties(properties, n_structures, n_atoms)\n\u001b[1;32m    206\u001b[0m     \u001b[39mfor\u001b[39;00m name, value \u001b[39min\u001b[39;00m properties\u001b[39m.\u001b[39mitems():\n\u001b[1;32m    207\u001b[0m         \u001b[39m# if len(value.shape) == 3:\u001b[39;00m\n\u001b[1;32m    208\u001b[0m         \u001b[39m# treat explicitely the multidimensional props\u001b[39;00m\n\u001b[1;32m    209\u001b[0m         \u001b[39m# raise LookupError(\"not implemented yet.\")\u001b[39;00m\n\u001b[1;32m    210\u001b[0m         \u001b[39m#    pass\u001b[39;00m\n\u001b[1;32m    211\u001b[0m         \u001b[39m# else:\u001b[39;00m\n\u001b[0;32m--> 212\u001b[0m         data[\u001b[39m\"\u001b[39m\u001b[39mproperties\u001b[39m\u001b[39m\"\u001b[39m]\u001b[39m.\u001b[39mupdate(_linearize(name, value, n_structures, n_atoms))\n\u001b[1;32m    214\u001b[0m \u001b[39mif\u001b[39;00m parameters \u001b[39mis\u001b[39;00m \u001b[39mnot\u001b[39;00m \u001b[39mNone\u001b[39;00m:\n\u001b[1;32m    215\u001b[0m     \u001b[39mif\u001b[39;00m \u001b[39mnot\u001b[39;00m \u001b[39misinstance\u001b[39m(parameters, \u001b[39mdict\u001b[39m):\n",
      "File \u001b[0;32m~/source/miniconda3/lib/python3.9/site-packages/chemiscope/input.py:587\u001b[0m, in \u001b[0;36m_linearize\u001b[0;34m(name, property, n_structures, n_centers)\u001b[0m\n\u001b[1;32m    585\u001b[0m \u001b[39melif\u001b[39;00m \u001b[39mlen\u001b[39m(\u001b[39mproperty\u001b[39m[\u001b[39m\"\u001b[39m\u001b[39mvalues\u001b[39m\u001b[39m\"\u001b[39m]\u001b[39m.\u001b[39mshape) \u001b[39m==\u001b[39m \u001b[39m3\u001b[39m:\n\u001b[1;32m    586\u001b[0m     \u001b[39mif\u001b[39;00m \u001b[39mproperty\u001b[39m[\u001b[39m\"\u001b[39m\u001b[39mvalues\u001b[39m\u001b[39m\"\u001b[39m]\u001b[39m.\u001b[39mshape[\u001b[39m1\u001b[39m] \u001b[39m==\u001b[39m \u001b[39m1\u001b[39m:\n\u001b[0;32m--> 587\u001b[0m         \u001b[39massert\u001b[39;00m \u001b[39misinstance\u001b[39m(\u001b[39mproperty\u001b[39;49m[\u001b[39m\"\u001b[39;49m\u001b[39mparameters\u001b[39;49m\u001b[39m\"\u001b[39;49m][\u001b[39m0\u001b[39m], \u001b[39mstr\u001b[39m)\n\u001b[1;32m    589\u001b[0m         values \u001b[39m=\u001b[39m []\n\u001b[1;32m    590\u001b[0m         \u001b[39mfor\u001b[39;00m i \u001b[39min\u001b[39;00m \u001b[39mrange\u001b[39m(\u001b[39mproperty\u001b[39m[\u001b[39m\"\u001b[39m\u001b[39mvalues\u001b[39m\u001b[39m\"\u001b[39m]\u001b[39m.\u001b[39mshape[\u001b[39m0\u001b[39m]):\n",
      "\u001b[0;31mKeyError\u001b[0m: 'parameters'"
     ]
    }
   ],
   "source": [
    "data = chemiscope.create_input(frames=frames, properties=props, parameters=params)"
   ]
  },
  {
   "cell_type": "code",
   "execution_count": 11,
   "metadata": {},
   "outputs": [],
   "source": [
    "chemiscope.write_input(\"../../Downloads/test4.json\", frames, properties=props, parameters=params)"
   ]
  },
  {
   "cell_type": "code",
   "execution_count": 20,
   "metadata": {},
   "outputs": [],
   "source": [
    "def expand(short_properties, n_structures, n_atoms):\n",
    "    properties = {}\n",
    "    for key, value in short_properties.items():\n",
    "        if isinstance(value, dict):\n",
    "            properties[key] = value\n",
    "        else:\n",
    "            if (not isinstance(value, list)) and (not isinstance(value, np.ndarray)):\n",
    "                raise ValueError(\n",
    "                    \"Property values should be either list or numpy array, \"\n",
    "                    f\"got {type(value)} instead\"\n",
    "                )\n",
    "            if n_structures == n_atoms:\n",
    "                warnings.warn(\n",
    "                    f\"The target of the property '{key}' is ambiguous because \"\n",
    "                    \"there is the same number of atoms and structures. \"\n",
    "                    \"We will assume target=structure\"\n",
    "                )\n",
    "\n",
    "            dict_property = {\"values\": value}\n",
    "\n",
    "            # heuristically determines the type of target\n",
    "            if len(value) == n_structures:\n",
    "                dict_property[\"target\"] = \"structure\"\n",
    "            elif len(value) == n_atoms:\n",
    "                dict_property[\"target\"] = \"atom\"\n",
    "            else:\n",
    "                raise ValueError(\n",
    "                    \"The length of property values is different from the \"\n",
    "                    \"number of structures and the number of atoms, we can not \"\n",
    "                    f\"guess the target. Got n_atoms = {n_atoms}, n_structures = \"\n",
    "                    f\"{n_structures}, the length of property values is \"\n",
    "                    f\"{len(value)}, for the '{key}' property\"\n",
    "                )\n",
    "\n",
    "            properties[key] = dict_property\n",
    "    return properties"
   ]
  },
  {
   "cell_type": "code",
   "execution_count": 23,
   "metadata": {},
   "outputs": [],
   "source": [
    "a = expand(props, 3, 0)"
   ]
  },
  {
   "cell_type": "code",
   "execution_count": 24,
   "metadata": {},
   "outputs": [
    {
     "data": {
      "text/plain": [
       "{'prop1': {'target': 'structure',\n",
       "  'values': array([[[1, 2, 3, 9]],\n",
       "  \n",
       "         [[4, 5, 6, 8]],\n",
       "  \n",
       "         [[0, 0, 0, 0]]]),\n",
       "  'parameters': ['param']},\n",
       " 'prop2': {'target': 'structure',\n",
       "  'values': array([  0,   1, 343]),\n",
       "  'parameters': ['param']}}"
      ]
     },
     "execution_count": 24,
     "metadata": {},
     "output_type": "execute_result"
    }
   ],
   "source": [
    "a"
   ]
  },
  {
   "cell_type": "code",
   "execution_count": 25,
   "metadata": {},
   "outputs": [
    {
     "name": "stdout",
     "output_type": "stream",
     "text": [
      "{'target': 'structure', 'values': array([[[1, 2, 3, 9]],\n",
      "\n",
      "       [[4, 5, 6, 8]],\n",
      "\n",
      "       [[0, 0, 0, 0]]]), 'parameters': ['param']}\n",
      "{'target': 'structure', 'values': array([  0,   1, 343]), 'parameters': ['param']}\n"
     ]
    }
   ],
   "source": [
    "for c, d in a.items():\n",
    "    print(d)"
   ]
  },
  {
   "cell_type": "code",
   "execution_count": 12,
   "metadata": {},
   "outputs": [
    {
     "data": {
      "text/plain": [
       "array([1, 2, 3, 9])"
      ]
     },
     "execution_count": 12,
     "metadata": {},
     "output_type": "execute_result"
    }
   ],
   "source": [
    "vals[0, 0]"
   ]
  },
  {
   "cell_type": "code",
   "execution_count": 18,
   "metadata": {},
   "outputs": [
    {
     "data": {
      "text/plain": [
       "{'meta': {'name': '<unknown>'},\n",
       " 'structures': [{'size': 2,\n",
       "   'names': ['Si', 'Si'],\n",
       "   'x': [0.0, 1.93079748],\n",
       "   'y': [0.0, 1.11474625],\n",
       "   'z': [0.0, 0.7882446],\n",
       "   'cell': [3.935514,\n",
       "    0.0,\n",
       "    0.0,\n",
       "    1.967074,\n",
       "    3.256574,\n",
       "    0.0,\n",
       "    1.728375,\n",
       "    1.085623,\n",
       "    3.061917]},\n",
       "  {'size': 2,\n",
       "   'names': ['Si', 'Si'],\n",
       "   'x': [0.0, 1.9307967],\n",
       "   'y': [0.0, 1.11474656],\n",
       "   'z': [0.0, 0.78824344],\n",
       "   'cell': [3.867451,\n",
       "    0.0,\n",
       "    0.0,\n",
       "    1.903427,\n",
       "    3.240924,\n",
       "    0.0,\n",
       "    1.723933,\n",
       "    1.067353,\n",
       "    3.256666]},\n",
       "  {'size': 2,\n",
       "   'names': ['Si', 'Si'],\n",
       "   'x': [0.0, 1.93079559],\n",
       "   'y': [0.0, 1.1147449],\n",
       "   'z': [0.0, 0.78824413],\n",
       "   'cell': [4.053009,\n",
       "    0.0,\n",
       "    0.0,\n",
       "    1.935709,\n",
       "    3.230548,\n",
       "    0.0,\n",
       "    1.857244,\n",
       "    0.963028,\n",
       "    3.032233]}],\n",
       " 'properties': {'prop1': {'target': 'structure',\n",
       "   'values': [[1.0, 2.0, 3.0, 9.0],\n",
       "    [4.0, 5.0, 6.0, 8.0],\n",
       "    [0.0, 0.0, 0.0, 0.0]]},\n",
       "  'prop2': {'target': 'structure', 'values': [0.0, 1.0, 343.0]}},\n",
       " 'parameters': {'param': {'values': array([1, 2, 3, 4])}}}"
      ]
     },
     "execution_count": 18,
     "metadata": {},
     "output_type": "execute_result"
    }
   ],
   "source": [
    "data"
   ]
  },
  {
   "cell_type": "code",
   "execution_count": 8,
   "metadata": {},
   "outputs": [
    {
     "data": {
      "text/plain": [
       "{'prop1': {'target': 'structure',\n",
       "  'values': [[1.0, 2.0, 3.0, 9.0], [4.0, 5.0, 6.0, 8.0], [0.0, 0.0, 0.0, 0.0]],\n",
       "  'parameters': ['param']},\n",
       " 'prop2': {'target': 'structure', 'values': [0.0, 1.0, 343.0]}}"
      ]
     },
     "execution_count": 8,
     "metadata": {},
     "output_type": "execute_result"
    }
   ],
   "source": [
    "data[\"properties\"]"
   ]
  },
  {
   "cell_type": "code",
   "execution_count": null,
   "metadata": {},
   "outputs": [],
   "source": []
  }
 ],
 "metadata": {
  "kernelspec": {
   "display_name": "base",
   "language": "python",
   "name": "python3"
  },
  "language_info": {
   "codemirror_mode": {
    "name": "ipython",
    "version": 3
   },
   "file_extension": ".py",
   "mimetype": "text/x-python",
   "name": "python",
   "nbconvert_exporter": "python",
   "pygments_lexer": "ipython3",
   "version": "3.9.13"
  },
  "orig_nbformat": 4,
  "vscode": {
   "interpreter": {
    "hash": "963224e1ff0b5c75cf0524d311911fb47cc92d922a415ba0dc6cbfe5331d900d"
   }
  }
 },
 "nbformat": 4,
 "nbformat_minor": 2
}
